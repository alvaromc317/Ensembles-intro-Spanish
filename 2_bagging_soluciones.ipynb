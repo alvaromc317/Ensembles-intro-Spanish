{
 "cells": [
  {
   "cell_type": "markdown",
   "id": "green-present",
   "metadata": {},
   "source": [
    "![image.png](plots/portada_ensemble.png)"
   ]
  },
  {
   "cell_type": "markdown",
   "id": "removed-customs",
   "metadata": {},
   "source": [
    "# Introducción\n",
    "___\n",
    "\n",
    "¡Bienvenidos a la sesión de introducción a los ensembles! Un ensemble es una serie de modelos que proporcionan predicciones de forma conjunta para mejorar los resultados que cada uno, de forma individual, podría dar. \n",
    "\n",
    "Como bibliografía adicional para estas sesiones recomiendo:\n",
    "* [Hands-On Machine Learning with Scikit-Learn, Keras, and TensorFlow, 2nd Edition](https://www.oreilly.com/library/view/hands-on-machine-learning/9781492032632/). Capítulo 7\n",
    "\n",
    "Para resolver estas prácticas necesitaremos los paquetes de Python de `numpy`, `pandas`, `matplotlib` y `sklearn`, empecemos cargando estos paquetes:"
   ]
  },
  {
   "cell_type": "code",
   "execution_count": 1,
   "id": "dangerous-isolation",
   "metadata": {},
   "outputs": [],
   "source": [
    "import numpy as np\n",
    "import pandas as pd\n",
    "import sklearn\n",
    "import matplotlib.pyplot as plt\n",
    "\n",
    "%matplotlib inline\n",
    "\n",
    "np.random.seed(5) # Los resultados del notebook serán los mismos en cada ejecución\n",
    "\n",
    "import os\n",
    "num_cores = os.cpu_count()"
   ]
  },
  {
   "cell_type": "markdown",
   "id": "outdoor-habitat",
   "metadata": {},
   "source": [
    "# Ensemble básico\n",
    "___\n",
    "\n",
    "Veamos la forma más directa de construcción de un ensemble. Se basa simplemente en construir distintos modelos y obtener una predicción final en base a las predicciones de todos los modelos. Veamos un ejemplo utilizando el conjunto de datos de `moons`:"
   ]
  },
  {
   "cell_type": "code",
   "execution_count": 2,
   "id": "passing-forwarding",
   "metadata": {},
   "outputs": [],
   "source": [
    "from sklearn.model_selection import train_test_split\n",
    "from sklearn.datasets import make_moons\n",
    "\n",
    "X, y = make_moons(n_samples=500, noise=0.30, random_state=42)\n",
    "\n",
    "X_train, X_test, y_train, y_test = train_test_split(X, y, random_state=42)"
   ]
  },
  {
   "cell_type": "code",
   "execution_count": 3,
   "id": "meaningful-concentrate",
   "metadata": {},
   "outputs": [
    {
     "data": {
      "text/plain": [
       "VotingClassifier(estimators=[('lr', LogisticRegression()),\n",
       "                             ('tree_clf', DecisionTreeClassifier()),\n",
       "                             ('svc', SVC())])"
      ]
     },
     "execution_count": 3,
     "metadata": {},
     "output_type": "execute_result"
    }
   ],
   "source": [
    "from sklearn.tree import DecisionTreeClassifier\n",
    "from sklearn.ensemble import VotingClassifier\n",
    "from sklearn.linear_model import LogisticRegression\n",
    "from sklearn.svm import SVC\n",
    "\n",
    "log_clf = LogisticRegression()\n",
    "tree_clf = DecisionTreeClassifier()\n",
    "svm_clf = SVC()\n",
    "\n",
    "voting_clf = VotingClassifier(\n",
    "    estimators=[('lr', log_clf), ('tree_clf', tree_clf), ('svc', svm_clf)],\n",
    "    voting='hard')\n",
    "\n",
    "voting_clf.fit(X_train, y_train)"
   ]
  },
  {
   "cell_type": "code",
   "execution_count": 4,
   "id": "neutral-ecuador",
   "metadata": {},
   "outputs": [
    {
     "name": "stdout",
     "output_type": "stream",
     "text": [
      "LogisticRegression 0.864\n",
      "DecisionTreeClassifier 0.88\n",
      "SVC 0.896\n",
      "VotingClassifier 0.912\n"
     ]
    }
   ],
   "source": [
    "from sklearn.metrics import accuracy_score\n",
    "\n",
    "for clf in (log_clf, tree_clf, svm_clf, voting_clf):\n",
    "    clf.fit(X_train, y_train)\n",
    "    y_pred = clf.predict(X_test)\n",
    "    print(clf.__class__.__name__, accuracy_score(y_test, y_pred))"
   ]
  },
  {
   "cell_type": "markdown",
   "id": "consistent-speaker",
   "metadata": {},
   "source": [
    "Como podemos ver, el resultado del `VotingClassifier` es ligeramente superior al de los demás modelos por separado."
   ]
  },
  {
   "cell_type": "markdown",
   "id": "quality-refrigerator",
   "metadata": {},
   "source": [
    "### <font color='D12828'> Ejercicio: </font>\n",
    "\n",
    "* Utilizando el conjunto de datos de boston, presentado en la sesión anterior, construye un `VotingRegressor` que utilice:\n",
    "    * Un modelo de regresión lineal `sklearn.linear_model.LinearRegression`\n",
    "    * Una SVM de regresión `sklearn.svm.SVR`\n",
    "    * Un árbol de regresión `sklearn.tree.DecisionTreeRegressor`\n",
    "* Calcula el `mean_squared_error` de cada modelo, así como del `VotingRegressor`"
   ]
  },
  {
   "cell_type": "code",
   "execution_count": 5,
   "id": "described-dependence",
   "metadata": {},
   "outputs": [
    {
     "name": "stderr",
     "output_type": "stream",
     "text": [
      "C:\\Users\\alvaromc317\\miniconda3\\lib\\site-packages\\sklearn\\utils\\deprecation.py:87: FutureWarning: Function load_boston is deprecated; `load_boston` is deprecated in 1.0 and will be removed in 1.2.\n",
      "\n",
      "    The Boston housing prices dataset has an ethical problem. You can refer to\n",
      "    the documentation of this function for further details.\n",
      "\n",
      "    The scikit-learn maintainers therefore strongly discourage the use of this\n",
      "    dataset unless the purpose of the code is to study and educate about\n",
      "    ethical issues in data science and machine learning.\n",
      "\n",
      "    In this special case, you can fetch the dataset from the original\n",
      "    source::\n",
      "\n",
      "        import pandas as pd\n",
      "        import numpy as np\n",
      "\n",
      "\n",
      "        data_url = \"http://lib.stat.cmu.edu/datasets/boston\"\n",
      "        raw_df = pd.read_csv(data_url, sep=\"\\s+\", skiprows=22, header=None)\n",
      "        data = np.hstack([raw_df.values[::2, :], raw_df.values[1::2, :2]])\n",
      "        target = raw_df.values[1::2, 2]\n",
      "\n",
      "    Alternative datasets include the California housing dataset (i.e.\n",
      "    :func:`~sklearn.datasets.fetch_california_housing`) and the Ames housing\n",
      "    dataset. You can load the datasets as follows::\n",
      "\n",
      "        from sklearn.datasets import fetch_california_housing\n",
      "        housing = fetch_california_housing()\n",
      "\n",
      "    for the California housing dataset and::\n",
      "\n",
      "        from sklearn.datasets import fetch_openml\n",
      "        housing = fetch_openml(name=\"house_prices\", as_frame=True)\n",
      "\n",
      "    for the Ames housing dataset.\n",
      "    \n",
      "  warnings.warn(msg, category=FutureWarning)\n"
     ]
    }
   ],
   "source": [
    "from sklearn.datasets import load_boston\n",
    "\n",
    "boston = load_boston()\n",
    "x_boston = boston.data\n",
    "y_boston = boston.target\n",
    "\n",
    "x_train_boston, x_test_boston, y_train_boston, y_test_boston = train_test_split(x_boston, y_boston, train_size=0.8, random_state=5)\n"
   ]
  },
  {
   "cell_type": "code",
   "execution_count": 6,
   "id": "through-earthquake",
   "metadata": {},
   "outputs": [
    {
     "name": "stdout",
     "output_type": "stream",
     "text": [
      "LinearRegression 20.869292183770778\n",
      "DecisionTreeRegressor 30.24843137254901\n",
      "SVR 58.6325623449\n",
      "VotingRegressor 17.538146790658683\n"
     ]
    }
   ],
   "source": [
    "# Ejercicio\n",
    "from sklearn.ensemble import VotingRegressor\n",
    "from sklearn.tree import DecisionTreeRegressor\n",
    "from sklearn.svm import SVR\n",
    "from sklearn.linear_model import LinearRegression\n",
    "from sklearn.metrics import mean_squared_error\n",
    "\n",
    "lm = LinearRegression()\n",
    "tree_reg = DecisionTreeRegressor()\n",
    "svm_reg = SVR()\n",
    "\n",
    "voting_regressor = VotingRegressor(\n",
    "    estimators = [('lm', lm), ('tree_reg', tree_reg), ('svm_reg', svm_reg)])\n",
    "\n",
    "for clf in (lm, tree_reg, svm_reg, voting_regressor):\n",
    "    clf.fit(x_train_boston, y_train_boston)\n",
    "    y_pred = clf.predict(x_test_boston)\n",
    "    print(clf.__class__.__name__, mean_squared_error(y_test_boston, y_pred))"
   ]
  },
  {
   "cell_type": "markdown",
   "id": "caroline-explanation",
   "metadata": {},
   "source": [
    "# Bagging\n",
    "___\n",
    "\n",
    "Bagging es diminutivo de bootstrap aggregating. La idea detrás de estos ensembles es sencilla:\n",
    "\n",
    "1. A partir del conjunto de entrenamiento, generar $M$ subconjuntos usando bootstrapping\n",
    "2. Entrenar un modelo con cada subconjunto (esto puede hacerse en paralelo).\n",
    "3. Los resultados se agregan en una predicción final:\n",
    "    * Regresión: Media de todos los modelos.\n",
    "    * Clasificación: Por votación a la clase mayoritaria.\n",
    "\n",
    "Veamos un ejemplo con el conjunto de datos `moons` anterior."
   ]
  },
  {
   "cell_type": "code",
   "execution_count": 7,
   "id": "upset-signal",
   "metadata": {},
   "outputs": [
    {
     "name": "stdout",
     "output_type": "stream",
     "text": [
      "0.912\n"
     ]
    }
   ],
   "source": [
    "from sklearn.ensemble import BaggingClassifier\n",
    "\n",
    "bag_clf = BaggingClassifier(\n",
    "    DecisionTreeClassifier(), \n",
    "    n_estimators=100, max_samples=0.5, n_jobs=num_cores - 1)\n",
    "\n",
    "bag_clf.fit(X_train, y_train)\n",
    "y_pred = bag_clf.predict(X_test)\n",
    "\n",
    "print(accuracy_score(y_test, y_pred))"
   ]
  },
  {
   "cell_type": "markdown",
   "id": "subjective-cycle",
   "metadata": {},
   "source": [
    "## Comparativa: Arbol vs Ensemble\n",
    "\n",
    "En la sesión anterior veíamos que un problema de los árboles era su inestabilidad y su uso de fronteras de decisión ortogonales (perpendiculares a un eje). Utilizando ensembles, este problema se resuelve en gran medida. Veamoslo con un ejercicio:\n",
    "\n",
    "### <font color='D12828'> Ejercicio: </font>\n",
    "* En el conjunto de datos de moons `X_train`, `y_train`, entrena un único árbol de clasificación (sin modificar los hiperparámetros por defecto)\n",
    "* Representa la frontera de decisión de este árbol usando las funciones `plot_decision_boundary` y `plt.scatter`\n",
    "* Representa la frontera de decisión del `BaggingClassifier` entrenado antes.\n",
    "* ¿Qué diferencias observas?"
   ]
  },
  {
   "cell_type": "code",
   "execution_count": 8,
   "id": "designed-principle",
   "metadata": {},
   "outputs": [],
   "source": [
    "def plot_decision_boundary(clf, axes):\n",
    "    x1s = np.linspace(axes[0], axes[1], 100)\n",
    "    x2s = np.linspace(axes[2], axes[3], 100)\n",
    "    x1, x2 = np.meshgrid(x1s, x2s)\n",
    "    X_new = np.c_[x1.ravel(), x2.ravel()]\n",
    "    y_pred = clf.predict(X_new).reshape(x1.shape)\n",
    "    plt.contourf(x1, x2, y_pred, alpha=0.3)"
   ]
  },
  {
   "cell_type": "code",
   "execution_count": 9,
   "id": "domestic-collect",
   "metadata": {},
   "outputs": [
    {
     "data": {
      "image/png": "[encoded data removed]",
      "text/plain": [
       "<Figure size 1008x432 with 2 Axes>"
      ]
     },
     "metadata": {
      "needs_background": "light"
     },
     "output_type": "display_data"
    }
   ],
   "source": [
    "# Ejercicio\n",
    "\n",
    "tree_clf = DecisionTreeClassifier(random_state=42)\n",
    "tree_clf.fit(X_train, y_train)\n",
    "\n",
    "plt.figure(figsize=(14, 6))\n",
    "\n",
    "plt.subplot(1,2,1)\n",
    "plt.scatter(X[:,0], X[:,1], c=y)\n",
    "plot_decision_boundary(tree_clf, axes=[-2, 3, -1.5, 2])\n",
    "\n",
    "plt.subplot(1,2,2)\n",
    "plt.scatter(X[:,0], X[:,1], c=y)\n",
    "plot_decision_boundary(bag_clf, axes=[-2, 3, -1.5, 2])"
   ]
  },
  {
   "cell_type": "markdown",
   "id": "educated-murray",
   "metadata": {},
   "source": [
    "### <font color='D12828'> Ejercicio: </font>\n",
    "\n",
    "* Utilizando el conjunto de datos de boston, construye un `BaggingRegressor` que utilice:\n",
    "* 100 árboles de regresión\n",
    "* Construya los subconjuntos de bootstrapping usando 200 observaciones en cada uno\n",
    "* Calcula su error cuadrático medio"
   ]
  },
  {
   "cell_type": "code",
   "execution_count": 10,
   "id": "atmospheric-geneva",
   "metadata": {},
   "outputs": [
    {
     "name": "stdout",
     "output_type": "stream",
     "text": [
      "9.122279225490196\n"
     ]
    }
   ],
   "source": [
    "# Ejercicio\n",
    "\n",
    "from sklearn.ensemble import BaggingRegressor\n",
    "\n",
    "bag_reg = BaggingRegressor(\n",
    "    DecisionTreeRegressor(), \n",
    "    n_estimators=100, max_samples=200, n_jobs=num_cores - 1)\n",
    "\n",
    "bag_reg.fit(x_train_boston, y_train_boston)\n",
    "\n",
    "y_pred = bag_reg.predict(x_test_boston)\n",
    "\n",
    "print(mean_squared_error(y_test_boston, y_pred))"
   ]
  },
  {
   "cell_type": "markdown",
   "id": "hairy-match",
   "metadata": {},
   "source": [
    "## Evaluación Out of Bag\n",
    "\n",
    "Al hacer bagging, algunas observaciones pueden ser seleccionadas más de una vez, mientras otras no son seleccionadas en absoluto. De esta forma, dadas n observaciones en el conjunto de datos original, si realizamos bootstrapping tomando $n$ observaciones con reemplazamiento, estaremos seleccionando aproximadamente $2/3$ del conjunto de datos original. El $1/3$ restante está \"out of bag\". Observa que en cada modelo, el conjunto OOB será diferente, ya que el muestreo se hace al hacer en cada modelo. Como cada modelo no ha visto ninguna observación de su conjunto OOB, este se puede usar para validar el modelo, calculando las predicciones sin necesidad de construir un conjunto de validación. Para evaluar el ensemble, simplemente debemos agregar las evaluaciones OOB de los modelos. \n",
    "\n",
    "Para calcular esta evaluación OOB en sklearn, debemos incluir el parámetro `oob_score=True` en nuestro `BaggingClassifier`. Veamos un ejemplo:\n"
   ]
  },
  {
   "cell_type": "code",
   "execution_count": 11,
   "id": "round-collectible",
   "metadata": {},
   "outputs": [
    {
     "data": {
      "text/plain": [
       "0.896"
      ]
     },
     "execution_count": 11,
     "metadata": {},
     "output_type": "execute_result"
    }
   ],
   "source": [
    "bag_clf = BaggingClassifier(\n",
    "    DecisionTreeClassifier(), n_estimators=100,\n",
    "    n_jobs=num_cores - 1, oob_score=True)\n",
    "\n",
    "bag_clf.fit(X_train, y_train)\n",
    "bag_clf.oob_score_"
   ]
  },
  {
   "cell_type": "markdown",
   "id": "southwest-judgment",
   "metadata": {},
   "source": [
    "También podemos obtener la evaluación OOB para cada observación utilizando la función `bag_clf.oob_decision_function_`"
   ]
  },
  {
   "cell_type": "code",
   "execution_count": 12,
   "id": "progressive-retention",
   "metadata": {},
   "outputs": [
    {
     "data": {
      "text/plain": [
       "array([[0.38709677, 0.61290323],\n",
       "       [0.35897436, 0.64102564],\n",
       "       [1.        , 0.        ],\n",
       "       [0.        , 1.        ],\n",
       "       [0.        , 1.        ]])"
      ]
     },
     "execution_count": 12,
     "metadata": {},
     "output_type": "execute_result"
    }
   ],
   "source": [
    "bag_clf.oob_decision_function_[0:5]"
   ]
  },
  {
   "cell_type": "markdown",
   "id": "ranking-embassy",
   "metadata": {},
   "source": [
    "Esto nos devuelve la probabilidad de pertenencia a cada clase que nuestro ensemble asigna a cada observación del conjunto de datos. Por ejemplo, la primera observación se clasifica como 1, ya que la probabilidad de esa clase es de un 60\\%\n",
    "\n",
    "### OOB en regresión\n",
    "\n",
    "En el caso de construir un `BaggingRegressor`, la función `oob_score_` no devuelve el error cuadrático medio, sino una estimación del coeficiente $R^2$, calculado como:\n",
    "\n",
    "$$ R^{2}(y, \\hat{y})=1-\\frac{\\sum_{i=1}^{n}\\left(y_{i}-\\hat{y}_{i}\\right)^{2}}{\\sum_{i=1}^{n}\\left(y_{i}-\\bar{y}\\right)^{2}} $$\n",
    "\n",
    "* Si las predicciones son exactas a la media de la variable respuesta, $R^2=0$\n",
    "* Si las predicciones son peores que la media, $R^2<0$\n",
    "* Si las predicciones son mejores que la media, $R^2>0$\n",
    "* Como máximo, esta función puede tomar valor 1"
   ]
  },
  {
   "cell_type": "markdown",
   "id": "julian-journalist",
   "metadata": {},
   "source": [
    "### <font color='D12828'> Ejercicio: </font>\n",
    "\n",
    "* Obtén la estimación OOB de un modelo `BaggingRegressor`  entrenado en el conjunto de datos Boston."
   ]
  },
  {
   "cell_type": "code",
   "execution_count": 13,
   "id": "quality-baseline",
   "metadata": {},
   "outputs": [
    {
     "data": {
      "text/plain": [
       "0.871773631732427"
      ]
     },
     "execution_count": 13,
     "metadata": {},
     "output_type": "execute_result"
    }
   ],
   "source": [
    "# Ejercicio\n",
    "\n",
    "bag_reg = BaggingRegressor(\n",
    "    DecisionTreeRegressor(), n_estimators=100,\n",
    "    n_jobs=num_cores - 1, oob_score=True)\n",
    "\n",
    "bag_reg.fit(x_train_boston, y_train_boston)\n",
    "bag_reg.oob_score_"
   ]
  },
  {
   "cell_type": "markdown",
   "id": "tender-attachment",
   "metadata": {},
   "source": [
    "También podemos acceder a las predicciones hechas por el `BaggingRegressor` para cada observación del conjunto de train usando la función `bag_reg.oob_prediction_`\n",
    "\n",
    "### <font color='D12828'> Ejercicio: </font>\n",
    "* Utilizando la función `oob_prediction_` obtén el valor del error cuadrático medio de las observaciones OOB."
   ]
  },
  {
   "cell_type": "code",
   "execution_count": 14,
   "id": "certain-craft",
   "metadata": {},
   "outputs": [
    {
     "name": "stdout",
     "output_type": "stream",
     "text": [
      "11.014862706960828\n"
     ]
    }
   ],
   "source": [
    "# Ejercicio\n",
    "\n",
    "y_pred = bag_reg.oob_prediction_\n",
    "\n",
    "print(mean_squared_error(y_train_boston, y_pred))"
   ]
  },
  {
   "cell_type": "markdown",
   "id": "clean-scanner",
   "metadata": {},
   "source": [
    "# Random Forest\n",
    "___"
   ]
  },
  {
   "cell_type": "markdown",
   "id": "bottom-roommate",
   "metadata": {},
   "source": [
    "Los Random Forest (RF) son el algoritmo de Bagging más conocido. Esencialmente son ensembles de bagging construidos con árboles, pero además de la aleatoriedad conseguida por el bootstrapping, añaden un extra de aleatoriedad en las variables, ya que cada arbol de un random forest se construye utilizando solo un subconjunto de las variables originales del conjunto de datos. Esto permite reducir el sobre ajuste, y reducir los tiempos de entrenamiento (ya que cada arbol usa menos variables). Un random forest tiene por tanto:\n",
    "* Los hiperparámetros de los árboles\n",
    "* Los hiperparámetros del bagging\n",
    "* Hiperparámetros que controlan el número de variables.\n",
    "\n",
    "Veamos un ejemplo utilizando el conjunto de datos de moon anterior:"
   ]
  },
  {
   "cell_type": "code",
   "execution_count": 15,
   "id": "challenging-sharing",
   "metadata": {},
   "outputs": [
    {
     "name": "stdout",
     "output_type": "stream",
     "text": [
      "0.9146666666666666\n"
     ]
    }
   ],
   "source": [
    "from sklearn.ensemble import RandomForestClassifier\n",
    "\n",
    "rnd_clf = RandomForestClassifier(n_estimators=200, max_depth=6, oob_score=True, n_jobs=num_cores - 1)\n",
    "\n",
    "rnd_clf.fit(X_train, y_train)\n",
    "\n",
    "y_pred_rf = rnd_clf.predict(X_test)\n",
    "\n",
    "print(rnd_clf.oob_score_)"
   ]
  },
  {
   "cell_type": "markdown",
   "id": "heavy-virgin",
   "metadata": {},
   "source": [
    "### <font color='D12828'> Ejercicio: </font>\n",
    "* Construye un RF de regresión en el conjunto de datos de boston"
   ]
  },
  {
   "cell_type": "code",
   "execution_count": 16,
   "id": "prostate-ireland",
   "metadata": {},
   "outputs": [
    {
     "name": "stdout",
     "output_type": "stream",
     "text": [
      "MSE: 12.299653187432408\n"
     ]
    }
   ],
   "source": [
    "# Ejercicio\n",
    "\n",
    "from sklearn.ensemble import RandomForestRegressor\n",
    "\n",
    "rnd_reg_boston = RandomForestRegressor(n_estimators=200, max_leaf_nodes=16, n_jobs=num_cores - 1)\n",
    "\n",
    "rnd_reg_boston.fit(x_train_boston, y_train_boston)\n",
    "\n",
    "y_pred_rf = rnd_reg_boston.predict(x_test_boston)\n",
    "\n",
    "print(f'MSE: {mean_squared_error(y_test_boston, y_pred_rf)}')"
   ]
  },
  {
   "cell_type": "markdown",
   "id": "political-eleven",
   "metadata": {},
   "source": [
    "## Feature importance\n",
    "\n",
    "Los RF también proporcionan un ranking de las variables más importantes. Para cada arbol, se calcula cual es la reducción de la impureza que se consigue usando cada variable. Después se agrega la información de todos los árboles y se escala de forma que la suma de la importancia de todas las variables sea 1. Esta información se almacena en `rnd_clf.feature_importances_`. Veamos un ejemplo utilizando el conjunto de datos de iris:"
   ]
  },
  {
   "cell_type": "code",
   "execution_count": 17,
   "id": "vanilla-norwegian",
   "metadata": {},
   "outputs": [
    {
     "data": {
      "text/plain": [
       "<BarContainer object of 4 artists>"
      ]
     },
     "execution_count": 17,
     "metadata": {},
     "output_type": "execute_result"
    },
    {
     "data": {
      "image/png": "[encoded data removed]",
      "text/plain": [
       "<Figure size 720x360 with 1 Axes>"
      ]
     },
     "metadata": {
      "needs_background": "light"
     },
     "output_type": "display_data"
    }
   ],
   "source": [
    "from sklearn.datasets import load_iris\n",
    "iris = load_iris()\n",
    "\n",
    "rnd_clf = RandomForestClassifier(n_estimators=500, n_jobs=num_cores - 1)\n",
    "rnd_clf.fit(iris[\"data\"], iris[\"target\"])\n",
    "\n",
    "plt.figure(figsize=(10, 5))\n",
    "plt.bar(iris[\"feature_names\"], rnd_clf.feature_importances_)"
   ]
  },
  {
   "cell_type": "markdown",
   "id": "composite-retrieval",
   "metadata": {},
   "source": [
    "Podemos ver que las dos variables más importantes son Petal length y petal width, y que el sepal width prácticamente no aporta ninguna ganancia.\n",
    "\n",
    "### <font color='D12828'> Ejercicio: </font>\n",
    "* Obtén la importancia de las variables del conjunto de datos de boston."
   ]
  },
  {
   "cell_type": "code",
   "execution_count": 18,
   "id": "remarkable-durham",
   "metadata": {},
   "outputs": [
    {
     "data": {
      "text/plain": [
       "<BarContainer object of 13 artists>"
      ]
     },
     "execution_count": 18,
     "metadata": {},
     "output_type": "execute_result"
    },
    {
     "data": {
      "image/png": "[encoded data removed]",
      "text/plain": [
       "<Figure size 720x360 with 1 Axes>"
      ]
     },
     "metadata": {
      "needs_background": "light"
     },
     "output_type": "display_data"
    }
   ],
   "source": [
    "# Ejercicio\n",
    "\n",
    "plt.figure(figsize=(10, 5))\n",
    "plt.bar(boston[\"feature_names\"], rnd_reg_boston.feature_importances_)"
   ]
  },
  {
   "cell_type": "markdown",
   "id": "alien-longer",
   "metadata": {},
   "source": [
    "## Conjunto MNIST\n",
    "Recordemos el conjunto de datos MNIST utilizado en las sesiones de introducción a las máquinas de vector soporte. Este era un conjunto formado por 70000 imágenes de dígitos escritos a mano. El objetivo en este conjunto era, dada la imagen de un dígito, identificarlo correctamente. "
   ]
  },
  {
   "cell_type": "code",
   "execution_count": 19,
   "id": "eleven-handbook",
   "metadata": {},
   "outputs": [
    {
     "name": "stdout",
     "output_type": "stream",
     "text": [
      "Dimensiones X: (70000, 784)\n",
      "Dimensiones y: shape(70000,)\n"
     ]
    }
   ],
   "source": [
    "from sklearn.datasets import fetch_openml\n",
    "mnist = fetch_openml('mnist_784', version=1)\n",
    "\n",
    "X, y = mnist['data'], mnist['target']\n",
    "\n",
    "y = y.astype(np.uint8)  # Convertir y a números enteros.\n",
    "\n",
    "print(f'Dimensiones X: {X.shape}\\nDimensiones y: shape{y.shape}')"
   ]
  },
  {
   "cell_type": "markdown",
   "id": "least-swedish",
   "metadata": {},
   "source": [
    "Visualicemos una de las observaciones del conjunto de datos."
   ]
  },
  {
   "cell_type": "code",
   "execution_count": 20,
   "id": "flush-biography",
   "metadata": {},
   "outputs": [
    {
     "data": {
      "text/plain": [
       "Text(0.5, 1.0, '7')"
      ]
     },
     "execution_count": 20,
     "metadata": {},
     "output_type": "execute_result"
    },
    {
     "data": {
      "image/png": "[encoded data removed]",
      "text/plain": [
       "<Figure size 432x288 with 1 Axes>"
      ]
     },
     "metadata": {
      "needs_background": "light"
     },
     "output_type": "display_data"
    }
   ],
   "source": [
    "idx_image = 15\n",
    "\n",
    "digit_image = X.values[idx_image,:].reshape((28, 28))\n",
    "plt.imshow(digit_image, cmap='binary')\n",
    "plt.title(y[idx_image])"
   ]
  },
  {
   "cell_type": "markdown",
   "id": "featured-wiring",
   "metadata": {},
   "source": [
    "### <font color='D12828'> Ejercicio: </font>\n",
    "* Divide el conjunto de datos en una parte de train y otra de test de forma que el train_size sea 50% del total (lo habitual sería en torno al 30, pero queremos reducir el tiempo de computación)\n",
    "* Utiliza Grid search para optimizar el número de nodos hoja `max_leaf_nodes` en el random forest. Define un param grid de no mas de 4 valores.\n",
    "* Calcula la tasa de aciertos de tu modelo\n",
    "* Almacena en un vector la importancia de las variables. \n",
    "* Utiliza la función `plt.imshow` (usada justo encima) para visualizar la importancia de las variables como una imagen de tamaño 28x28. ¿Cómo interpretas este resultado?"
   ]
  },
  {
   "cell_type": "code",
   "execution_count": 21,
   "id": "optimum-hollywood",
   "metadata": {},
   "outputs": [],
   "source": [
    "# Ejercicio\n",
    "\n",
    "from sklearn.model_selection import train_test_split\n",
    "\n",
    "X_train, X_test, y_train, y_test = train_test_split(X, y, test_size=0.5, random_state=42, stratify=y)"
   ]
  },
  {
   "cell_type": "code",
   "execution_count": 22,
   "id": "straight-forth",
   "metadata": {},
   "outputs": [
    {
     "name": "stdout",
     "output_type": "stream",
     "text": [
      "Fitting 3 folds for each of 3 candidates, totalling 9 fits\n"
     ]
    }
   ],
   "source": [
    "# Ejercicio\n",
    "\n",
    "from sklearn.model_selection import GridSearchCV\n",
    "\n",
    "param_grid = [{'max_leaf_nodes':[50, 100, 150]}]\n",
    "rnd_clf = RandomForestClassifier(oob_score=True)\n",
    "\n",
    "grid_search = GridSearchCV(rnd_clf, param_grid, cv=3, n_jobs = num_cores-1, verbose=1)\n",
    "grid_search.fit(X_train, y_train)\n",
    "\n",
    "final_model = grid_search.best_estimator_\n",
    "final_model\n"
   ]
  },
  {
   "cell_type": "code",
   "execution_count": 23,
   "id": "logical-looking",
   "metadata": {},
   "outputs": [
    {
     "data": {
      "text/plain": [
       "0.9229428571428572"
      ]
     },
     "execution_count": 23,
     "metadata": {},
     "output_type": "execute_result"
    }
   ],
   "source": [
    "# Ejercicio\n",
    "\n",
    "predictions = final_model.predict(X_test)\n",
    "accuracy_score(y_test, predictions)"
   ]
  },
  {
   "cell_type": "code",
   "execution_count": 24,
   "id": "accepted-character",
   "metadata": {},
   "outputs": [
    {
     "data": {
      "text/plain": [
       "<matplotlib.image.AxesImage at 0x1440a9c5fd0>"
      ]
     },
     "execution_count": 24,
     "metadata": {},
     "output_type": "execute_result"
    },
    {
     "data": {
      "image/png": "[encoded data removed]",
      "text/plain": [
       "<Figure size 432x288 with 1 Axes>"
      ]
     },
     "metadata": {
      "needs_background": "light"
     },
     "output_type": "display_data"
    }
   ],
   "source": [
    "# Ejercicio\n",
    "\n",
    "feature_importance = final_model.feature_importances_\n",
    "plt.imshow(feature_importance.reshape((28, 28)))"
   ]
  },
  {
   "cell_type": "markdown",
   "id": "healthy-shower",
   "metadata": {},
   "source": [
    "# Fin\n",
    "___"
   ]
  }
 ],
 "metadata": {
  "kernelspec": {
   "display_name": "Python 3 (ipykernel)",
   "language": "python",
   "name": "python3"
  },
  "language_info": {
   "codemirror_mode": {
    "name": "ipython",
    "version": 3
   },
   "file_extension": ".py",
   "mimetype": "text/x-python",
   "name": "python",
   "nbconvert_exporter": "python",
   "pygments_lexer": "ipython3",
   "version": "3.8.5"
  }
 },
 "nbformat": 4,
 "nbformat_minor": 5
}
